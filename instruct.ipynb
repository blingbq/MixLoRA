{
 "cells": [
  {
   "cell_type": "code",
   "execution_count": null,
   "id": "135b1dfb",
   "metadata": {
    "vscode": {
     "languageId": "shellscript"
    }
   },
   "outputs": [],
   "source": [
    "conda create -n mixlora python=3.8 -y\n",
    "conda init bash\n",
    "source ~/.bashrc\n",
    "conda activate mixlora\n",
    "sh setup.sh"
   ]
  },
  {
   "cell_type": "code",
   "execution_count": null,
   "id": "205c881b",
   "metadata": {
    "vscode": {
     "languageId": "shellscript"
    }
   },
   "outputs": [],
   "source": [
    "sh scripts/finetune_mixlora.sh input 16 8"
   ]
  },
  {
   "cell_type": "code",
   "execution_count": null,
   "id": "faf66ea9",
   "metadata": {
    "vscode": {
     "languageId": "shellscript"
    }
   },
   "outputs": [],
   "source": [
    "which python && which deepspeed\n",
    "pip install deepspeed"
   ]
  },
  {
   "cell_type": "code",
   "execution_count": null,
   "id": "ce47e6af",
   "metadata": {
    "vscode": {
     "languageId": "shellscript"
    }
   },
   "outputs": [],
   "source": [
    "source /etc/network_turbo"
   ]
  },
  {
   "cell_type": "code",
   "execution_count": null,
   "id": "1076f45c",
   "metadata": {
    "vscode": {
     "languageId": "shellscript"
    }
   },
   "outputs": [],
   "source": [
    "pip install torch==2.0.1+cu118 torchvision==0.15.2+cu118 torchaudio==2.0.2+cu118 -f https://download.pytorch.org/whl/cu118/torch_stable.html\n",
    "pip install flash-attn==2.0.0.post1 --no-build-isolation  #一直编译错误\n",
    "export MAX_JOBS=4 && pip install flash-attn==2.0.0.post1 --no-build-isolation #终于成功了 但是编译了特别久\n"
   ]
  }
 ],
 "metadata": {
  "language_info": {
   "name": "python"
  }
 },
 "nbformat": 4,
 "nbformat_minor": 5
}
